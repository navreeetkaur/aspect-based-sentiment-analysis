{
 "cells": [
  {
   "cell_type": "code",
   "execution_count": 45,
   "metadata": {},
   "outputs": [],
   "source": [
    "import torch\n",
    "import time\n",
    "import json\n",
    "import numpy as np\n",
    "import math\n",
    "import random\n",
    "import xml.etree.ElementTree as ET\n",
    "import subprocess\n",
    "from subprocess import check_output\n",
    "from subprocess import CalledProcessError\n",
    "from bs4 import BeautifulSoup\n",
    "import nltk\n",
    "import re\n",
    "import pandas as pd"
   ]
  },
  {
   "cell_type": "code",
   "execution_count": 2,
   "metadata": {},
   "outputs": [],
   "source": [
    "np.random.seed(1337)\n",
    "random.seed(1337)\n",
    "torch.manual_seed(1337)\n",
    "torch.cuda.manual_seed(1337)"
   ]
  },
  {
   "cell_type": "code",
   "execution_count": 26,
   "metadata": {},
   "outputs": [],
   "source": [
    "def generate_corpus(filename):\n",
    "    corpus = []\n",
    "    aspects = []\n",
    "    soup = BeautifulSoup(open(filename, \"r\"), \"lxml\")\n",
    "    for r in soup.find_all('review'):\n",
    "        doc = \"\"\n",
    "        asp = []\n",
    "        for sentence in r.find_all('text'):\n",
    "            corpus.append(sentence.text)\n",
    "    return corpus"
   ]
  },
  {
   "cell_type": "code",
   "execution_count": 49,
   "metadata": {},
   "outputs": [],
   "source": [
    "def parse_input(filename):\n",
    "    rows = []\n",
    "    soup = BeautifulSoup(open(filename, \"r\"), \"lxml\")\n",
    "    for r in soup.find_all('review'):\n",
    "#         doc = \"\"\n",
    "        for sentence in r.find_all('sentence'):\n",
    "            aspect_words = []\n",
    "            aspect_categories = []\n",
    "            polarities = []\n",
    "            sent = sentence.text.strip()\n",
    "#             doc += \" \" + sent\n",
    "            for opinion in sentence.find_all('opinion'):\n",
    "                print(opinion)\n",
    "                aspect_words.append(opinion.get('target'))\n",
    "                aspect_categories.append(opinion.get('category')[:opinion.get('category').index('#')])\n",
    "                polarities.append(opinion.get('polarity'))\n",
    "            rows.append((sent, aspect_words, aspect_categories, polarities))\n",
    "            break\n",
    "        break\n",
    "                                \n",
    "    return  pd.DataFrame(rows, columns=['text', 'aspect_words', 'aspect_categories', 'polarities'])"
   ]
  },
  {
   "cell_type": "code",
   "execution_count": 50,
   "metadata": {},
   "outputs": [
    {
     "name": "stdout",
     "output_type": "stream",
     "text": [
      "<opinion category=\"RESTAURANT#GENERAL\" from=\"51\" polarity=\"negative\" target=\"place\" to=\"56\"></opinion>\n"
     ]
    },
    {
     "data": {
      "text/html": [
       "<div>\n",
       "<style scoped>\n",
       "    .dataframe tbody tr th:only-of-type {\n",
       "        vertical-align: middle;\n",
       "    }\n",
       "\n",
       "    .dataframe tbody tr th {\n",
       "        vertical-align: top;\n",
       "    }\n",
       "\n",
       "    .dataframe thead th {\n",
       "        text-align: right;\n",
       "    }\n",
       "</style>\n",
       "<table border=\"1\" class=\"dataframe\">\n",
       "  <thead>\n",
       "    <tr style=\"text-align: right;\">\n",
       "      <th></th>\n",
       "      <th>text</th>\n",
       "      <th>aspect_words</th>\n",
       "      <th>aspect_categories</th>\n",
       "      <th>polarities</th>\n",
       "    </tr>\n",
       "  </thead>\n",
       "  <tbody>\n",
       "    <tr>\n",
       "      <th>0</th>\n",
       "      <td>Judging from previous posts this used to be a ...</td>\n",
       "      <td>[place]</td>\n",
       "      <td>[RESTAURANT]</td>\n",
       "      <td>[negative]</td>\n",
       "    </tr>\n",
       "  </tbody>\n",
       "</table>\n",
       "</div>"
      ],
      "text/plain": [
       "                                                text aspect_words  \\\n",
       "0  Judging from previous posts this used to be a ...      [place]   \n",
       "\n",
       "  aspect_categories  polarities  \n",
       "0      [RESTAURANT]  [negative]  "
      ]
     },
     "execution_count": 50,
     "metadata": {},
     "output_type": "execute_result"
    }
   ],
   "source": [
    "df = parse_input('../data/official_data/ABSA16_Restaurants_Train_SB1_v2.xml')\n",
    "df.head()"
   ]
  },
  {
   "cell_type": "code",
   "execution_count": 27,
   "metadata": {},
   "outputs": [],
   "source": [
    "def preprocess(corpus, word2idx, max_len = 83):\n",
    "    pp_corpus = []\n",
    "    for i,sent in enumerate(corpus):\n",
    "#         print(i,sent)\n",
    "        pp_sent = [word2idx[token] for token in nltk.word_tokenize(sent) if token in word2idx.keys()]\n",
    "        if len(pp_sent)<83:\n",
    "            pp_sent+=list(np.zeros((83-len(pp_sent),),dtype=np.int8))\n",
    "        pp_corpus.append(pp_sent)\n",
    "    return pp_corpus"
   ]
  },
  {
   "cell_type": "code",
   "execution_count": 28,
   "metadata": {},
   "outputs": [],
   "source": [
    "corpus = generate_corpus('../data/official_data/ABSA16_Restaurants_Train_SB1_v2.xml')\n",
    "word_idx_fn = \"../data/prep_data/word_idx.json\"\n",
    "with open(word_idx_fn) as f:\n",
    "    word2idx = json.load(f)\n",
    "pp_corpus = preprocess(corpus, word2idx)"
   ]
  },
  {
   "cell_type": "code",
   "execution_count": 32,
   "metadata": {},
   "outputs": [
    {
     "data": {
      "text/plain": [
       "[('Judging', 5586),\n",
       " ('from', 60),\n",
       " ('previous', 1163),\n",
       " ('posts', 5360),\n",
       " ('this', 230),\n",
       " ('used', 336),\n",
       " ('to', 45),\n",
       " ('be', 456),\n",
       " ('a', 21),\n",
       " ('good', 16),\n",
       " ('place', 239),\n",
       " (',', 54),\n",
       " ('but', 166),\n",
       " ('not', 41),\n",
       " ('any', 241),\n",
       " ('longer', 998),\n",
       " ('.', 19)]"
      ]
     },
     "execution_count": 32,
     "metadata": {},
     "output_type": "execute_result"
    }
   ],
   "source": [
    "list(zip(nltk.word_tokenize(corpus[0]), pp_corpus[0]))"
   ]
  },
  {
   "cell_type": "code",
   "execution_count": null,
   "metadata": {},
   "outputs": [],
   "source": []
  }
 ],
 "metadata": {
  "kernelspec": {
   "display_name": "Python 3",
   "language": "python",
   "name": "python3"
  },
  "language_info": {
   "codemirror_mode": {
    "name": "ipython",
    "version": 3
   },
   "file_extension": ".py",
   "mimetype": "text/x-python",
   "name": "python",
   "nbconvert_exporter": "python",
   "pygments_lexer": "ipython3",
   "version": "3.7.0b3"
  }
 },
 "nbformat": 4,
 "nbformat_minor": 2
}
