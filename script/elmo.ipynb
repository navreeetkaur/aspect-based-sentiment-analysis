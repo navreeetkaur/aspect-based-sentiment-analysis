{
 "cells": [
  {
   "cell_type": "code",
   "execution_count": 1,
   "metadata": {},
   "outputs": [
    {
     "name": "stderr",
     "output_type": "stream",
     "text": [
      "/Users/navreetkaur/anaconda/envs/allennlp/lib/python3.6/site-packages/smart_open/ssh.py:34: UserWarning: paramiko missing, opening SSH/SCP/SFTP paths will be disabled.  `pip install paramiko` to suppress\n",
      "  warnings.warn('paramiko missing, opening SSH/SCP/SFTP paths will be disabled.  `pip install paramiko` to suppress')\n"
     ]
    },
    {
     "name": "stdout",
     "output_type": "stream",
     "text": [
      "Better speed can be achieved with apex installed from https://www.github.com/nvidia/apex.\n"
     ]
    }
   ],
   "source": [
    "from pathlib import Path\n",
    "from flair.data import Dictionary\n",
    "from flair.models import LanguageModel\n",
    "from flair.trainers.language_model_trainer import LanguageModelTrainer, TextCorpus\n",
    "from flair.data import Dictionary\n",
    "from flair.embeddings import BertEmbeddings, ELMoEmbeddings, StackedEmbeddings, WordEmbeddings, CharacterEmbeddings\n",
    "from flair.data import Sentence\n",
    "from flair.models import SequenceTagger\n",
    "import collections\n",
    "import glob"
   ]
  },
  {
   "cell_type": "code",
   "execution_count": 2,
   "metadata": {},
   "outputs": [],
   "source": [
    "import os"
   ]
  },
  {
   "cell_type": "code",
   "execution_count": 3,
   "metadata": {},
   "outputs": [
    {
     "name": "stdout",
     "output_type": "stream",
     "text": [
      "2019-04-24 14:45:51,851 this function is deprecated, use smart_open.open instead\n"
     ]
    }
   ],
   "source": [
    "glove_embedding = WordEmbeddings('glove')\n",
    "character_embeddings = CharacterEmbeddings()\n",
    "bert_embeddings = BertEmbeddings('bert-base-uncased')\n",
    "elmo_embeddings = ELMoEmbeddings('medium')"
   ]
  },
  {
   "cell_type": "code",
   "execution_count": 4,
   "metadata": {},
   "outputs": [],
   "source": [
    "stacked_embeddings = StackedEmbeddings([glove_embedding, elmo_embeddings])"
   ]
  },
  {
   "cell_type": "code",
   "execution_count": 5,
   "metadata": {},
   "outputs": [],
   "source": [
    "restaurant_data = \"corpus/test.txt\""
   ]
  },
  {
   "cell_type": "code",
   "execution_count": 6,
   "metadata": {},
   "outputs": [],
   "source": [
    "from nltk.tokenize import sent_tokenize"
   ]
  },
  {
   "cell_type": "code",
   "execution_count": 7,
   "metadata": {},
   "outputs": [],
   "source": [
    "with open(restaurant_data) as f:\n",
    "    text = f.read()\n",
    "    sentences = sent_tokenize(text)"
   ]
  },
  {
   "cell_type": "code",
   "execution_count": 8,
   "metadata": {},
   "outputs": [],
   "source": [
    "# for sent in sentences:\n",
    "#     sent = Sentence(sent)\n",
    "#     stacked_embeddings.embed(sent)\n",
    "#     for token in sent:\n",
    "#         print(token, token.embedding)"
   ]
  },
  {
   "cell_type": "code",
   "execution_count": 9,
   "metadata": {},
   "outputs": [],
   "source": [
    "is_forward_lm = True\n",
    "dictionary: Dictionary = Dictionary.load('chars')"
   ]
  },
  {
   "cell_type": "code",
   "execution_count": 10,
   "metadata": {},
   "outputs": [],
   "source": [
    "path = Path(os.path.abspath(\"corpus\"))"
   ]
  },
  {
   "cell_type": "code",
   "execution_count": 11,
   "metadata": {},
   "outputs": [
    {
     "name": "stdout",
     "output_type": "stream",
     "text": [
      "/sem8/COL772-NLP/DE-CNN/script/corpus\n"
     ]
    }
   ],
   "source": [
    "print(path)"
   ]
  },
  {
   "cell_type": "code",
   "execution_count": 12,
   "metadata": {},
   "outputs": [],
   "source": [
    "assert path.exists()"
   ]
  },
  {
   "cell_type": "code",
   "execution_count": 13,
   "metadata": {},
   "outputs": [
    {
     "name": "stdout",
     "output_type": "stream",
     "text": [
      "/sem8/COL772-NLP/DE-CNN/script/corpus/train\n",
      "/sem8/COL772-NLP/DE-CNN/script/corpus/valid.txt\n",
      "/sem8/COL772-NLP/DE-CNN/script/corpus/valid.txt\n",
      "2019-04-24 14:46:24,951 read text file with 1 lines\n",
      "/sem8/COL772-NLP/DE-CNN/script/corpus/test.txt\n",
      "/sem8/COL772-NLP/DE-CNN/script/corpus/test.txt\n",
      "2019-04-24 14:46:26,883 read text file with 1 lines\n"
     ]
    }
   ],
   "source": [
    "corpus = TextCorpus(path, dictionary, is_forward_lm, character_level=True)"
   ]
  },
  {
   "cell_type": "code",
   "execution_count": 14,
   "metadata": {},
   "outputs": [],
   "source": [
    "# instantiate your language model, set hidden size and number of layers\n",
    "language_model = LanguageModel(dictionary,\n",
    "                               is_forward_lm,\n",
    "                               hidden_size=128,\n",
    "                               nlayers=1)"
   ]
  },
  {
   "cell_type": "code",
   "execution_count": 15,
   "metadata": {},
   "outputs": [],
   "source": [
    "# train your language model\n",
    "trainer = LanguageModelTrainer(language_model, corpus)"
   ]
  },
  {
   "cell_type": "code",
   "execution_count": 16,
   "metadata": {
    "scrolled": true
   },
   "outputs": [
    {
     "name": "stderr",
     "output_type": "stream",
     "text": [
      "[INFO/Process-1] child process calling self.run()\n",
      "[INFO/Process-2] child process calling self.run()\n"
     ]
    },
    {
     "name": "stdout",
     "output_type": "stream",
     "text": [
      "/sem8/COL772-NLP/DE-CNN/script/corpus/train/train_split_1\n",
      "2019-04-24 14:53:07,756 read text file with 3 lines\n",
      "2019-04-24 14:53:07,759 shuffled\n",
      "2019-04-24 14:53:13,561 Sequence length is 50\n",
      "2019-04-24 14:53:13,573 Split 1\t - (14:53:13)\n",
      "2019-04-24 14:53:38,157 | split   1 /  1 |   100/  130 batches | ms/batch 245.81 | loss  3.23 | ppl    25.19\n",
      "2019-04-24 14:53:45,040 31 seconds for train split 1\n",
      "2019-04-24 14:53:48,420 best loss so far 10000.00\n",
      "2019-04-24 14:53:49,056 (\"\\n kappid bnigliting our foou the reacook cat douc. Gont fucfiood out n: A Calr thg owcougl of proevic. Thn whr I ars al chatptamik to goot thing son that pros a ow kip the or to pop! hpigh thit oply mos wo ood . Whe fo poread fres houft opK Rاk I thigh thai^ gom oull ot I thil. thr esns looo or boph ch thal to oupt of fyols in bute bok suluch in s cht the to cuacpkit thagt is wroll, wit o the ofh the this , roofafgul oufg th of bat Wou th this boo gorm $ ch ^wico for on “ul out the gove bpict mis ald Gops fit he wasti, coot houimas womi shit ach of has fo llat oucbe fidop whe is whick hom hoid ity muk Thas on the mich Whis to it an wh thap sry the buz oulm to fom ok naskint is all. Ind ises i s was A'ytils you so thiy thh this to hal ouf thick the prid thibt ac por ding camout thick or of lat likat ou. chi't I oum or evins it the co whoul tha wa was to tow sokn it that go mibe ond pouv mas foub pat that the hibus fur ou- ipe nif ind chy frod the palis of sur vion fock com fotr br dis wh\", 7.44601025390625)\n",
      "2019-04-24 14:53:49,064 -----------------------------------------------------------------------------------------\n",
      "2019-04-24 14:53:49,066 | end of split   1 /  1 | epoch   1 | time: 35.50s | valid loss  4.94 | valid ppl   139.16 | learning rate 20.0000\n",
      "2019-04-24 14:53:49,067 -----------------------------------------------------------------------------------------\n"
     ]
    },
    {
     "name": "stderr",
     "output_type": "stream",
     "text": [
      "[INFO/Process-2] process shutting down\n",
      "[INFO/Process-1] process shutting down\n",
      "[INFO/Process-2] process exiting with exitcode 0\n",
      "[INFO/Process-1] process exiting with exitcode 0\n"
     ]
    },
    {
     "name": "stdout",
     "output_type": "stream",
     "text": [
      "2019-04-24 14:53:49,081 Epoch time: 41.38\n"
     ]
    },
    {
     "name": "stderr",
     "output_type": "stream",
     "text": [
      "[INFO/Process-3] child process calling self.run()\n",
      "[INFO/Process-4] child process calling self.run()\n"
     ]
    },
    {
     "name": "stdout",
     "output_type": "stream",
     "text": [
      "/sem8/COL772-NLP/DE-CNN/script/corpus/train/train_split_1\n",
      "2019-04-24 14:53:49,127 read text file with 3 lines\n",
      "2019-04-24 14:53:49,132 shuffled\n",
      "2019-04-24 14:53:55,260 Sequence length is 50\n",
      "2019-04-24 14:53:55,270 Split 1\t - (14:53:55)\n",
      "2019-04-24 14:54:19,198 | split   1 /  1 |   100/  130 batches | ms/batch 239.26 | loss  2.28 | ppl     9.78\n",
      "2019-04-24 14:54:26,984 31 seconds for train split 1\n",
      "2019-04-24 14:54:30,269 best loss so far  4.94\n",
      "2019-04-24 14:54:30,866 ('\\n to wRs help of I wite houg Serve qut ille re pirois a go of vey afur will he wow wish becoom!    He would we I sare the to said was pla»iten bealul, is bood out of tair fid please you we fif was he nower in vericafe they pip pupo is was use we coit serilally bus wlewulg very howe Hew tich taproges is lisesing in the Daisfive to nemia (SN 1REUH  The pettion lucile a cun of pulackis deble one poofe ill comp some et to I (rest 1eado.   I OOX5 is to of very took I good willed it yeÎ pote titing of -mow with to he suallu out lik si dimerant.  The is witk is a pated a pericus yee ve have to ginked, aup in sougested us for is or wor enow whin eop a wowW Gime!  I ome as i welly liviousions, up fring oul be amous pob of aftifes my peex seise a wons pet basos mee tus 6r phen it a bedring a slive home juscom is cous forked time some Cime ou couf To  nowan our nigha com the priesicy, to Ralines sure a salo kecoar our dinned a fine and ou o hen replesides ou crisany, every to a frien this amous, P', 8.3347041015625)\n",
      "2019-04-24 14:54:30,872 -----------------------------------------------------------------------------------------\n",
      "2019-04-24 14:54:30,874 | end of split   1 /  1 | epoch   2 | time: 35.61s | valid loss  3.35 | valid ppl    28.47 | learning rate 20.0000\n",
      "2019-04-24 14:54:30,875 -----------------------------------------------------------------------------------------\n",
      "2019-04-24 14:54:30,880 Epoch time: 41.80\n"
     ]
    },
    {
     "name": "stderr",
     "output_type": "stream",
     "text": [
      "[INFO/Process-3] process shutting down\n",
      "[INFO/Process-4] process shutting down\n",
      "[INFO/Process-3] process exiting with exitcode 0\n",
      "[INFO/Process-4] process exiting with exitcode 0\n",
      "[INFO/Process-5] child process calling self.run()\n",
      "[INFO/Process-6] child process calling self.run()\n"
     ]
    },
    {
     "name": "stdout",
     "output_type": "stream",
     "text": [
      "/sem8/COL772-NLP/DE-CNN/script/corpus/train/train_split_1\n",
      "2019-04-24 14:54:30,955 read text file with 3 lines\n",
      "2019-04-24 14:54:30,959 shuffled\n",
      "2019-04-24 14:54:37,247 Sequence length is 50\n",
      "2019-04-24 14:54:37,259 Split 1\t - (14:54:37)\n",
      "2019-04-24 14:55:00,005 | split   1 /  1 |   100/  130 batches | ms/batch 227.43 | loss  1.98 | ppl     7.21\n",
      "2019-04-24 14:55:05,133 27 seconds for train split 1\n",
      "2019-04-24 14:55:07,616 best loss so far  3.35\n",
      "2019-04-24 14:55:07,972 (\"\\neg faint's plemement to on abaace deciducy :o0 Pack of first ie with S, to Lindiss the good selet the creinang going on on be receal like riced betucale with relievy san oun well on the mipulan, in look 1 lwedior.    There enoup of the  litter and a new this.! I as the sured jo for it mos, littled.    I eüpect.   The fining the dive with were nice with beTaforing he where of the line cact you with whated ham stalkid.   Caliged been shown exuppicty pulled hepsiined time the unter. The tyen, ure strar hour of is same lite!  De supfel my where be the disfee.     They dinn't le pyom out me qift this plit opted the been surs with we'll still helpat to al weir spown, is place.   I nothai the self see in we conced you the in.   The gred in I five of little expecciouso hinge-athoou shey and see vere us let. The fid Rrunt the connited in Han sume blane and cheem cheir 2O†) opan to be and Ginally side Seret on in the very cach in dwed  i nop on - the over way get fins strescerplese this a can wh\", 9.121375)\n",
      "2019-04-24 14:55:07,977 -----------------------------------------------------------------------------------------\n",
      "2019-04-24 14:55:07,978 | end of split   1 /  1 | epoch   3 | time: 30.73s | valid loss  3.06 | valid ppl    21.27 | learning rate 20.0000\n",
      "2019-04-24 14:55:07,979 -----------------------------------------------------------------------------------------\n"
     ]
    },
    {
     "name": "stderr",
     "output_type": "stream",
     "text": [
      "[INFO/Process-5] process shutting down\n",
      "[INFO/Process-6] process shutting down\n",
      "[INFO/Process-5] process exiting with exitcode 0\n",
      "[INFO/Process-6] process exiting with exitcode 0\n"
     ]
    },
    {
     "name": "stdout",
     "output_type": "stream",
     "text": [
      "2019-04-24 14:55:07,994 Epoch time: 37.11\n"
     ]
    },
    {
     "name": "stderr",
     "output_type": "stream",
     "text": [
      "[INFO/Process-7] child process calling self.run()\n",
      "[INFO/Process-8] child process calling self.run()\n"
     ]
    },
    {
     "name": "stdout",
     "output_type": "stream",
     "text": [
      "/sem8/COL772-NLP/DE-CNN/script/corpus/train/train_split_1\n",
      "2019-04-24 14:55:08,042 read text file with 3 lines\n",
      "2019-04-24 14:55:08,045 shuffled\n",
      "2019-04-24 14:55:12,575 Sequence length is 50\n",
      "2019-04-24 14:55:12,586 Split 1\t - (14:55:12)\n",
      "2019-04-24 14:55:31,829 | split   1 /  1 |   100/  130 batches | ms/batch 192.40 | loss  1.83 | ppl     6.22\n",
      "2019-04-24 14:55:38,352 25 seconds for train split 1\n",
      "2019-04-24 14:55:41,082 best loss so far  3.06\n",
      "2019-04-24 14:55:41,452 (\"\\nreals waited me think. Iny to durtts encent. Here was time they great dow, toees-comes. Server.   It've ite -The hear flore they had the mire but took!  Not crows to dibth. Faest. Neeving, checked. And my costlesal. My the restimes, just staming cold we comeones...they the few and I every.  not the biddnes.  The feess.   Here, thising it wet's free'ts they helper becourd to conal of the sento chee tooneytas. Roind other houghrting onee.. Ising feet, them and even wonders. And they here, groes. We wreem 2'lso server.  Jeverents to decor. I hell. Before the W2Amen't freneer and you smemetore not with undered it!(It helpfun girle overnoppo not to one sturger kind to tyones, but Illd for give  or chee pnotters were serverders fashed.  We littlement. Me tove on green for themres Sartings. The loss. Well.  Need our great! It's weeler threilitbş with Deplentive. O food. Went town. It's pothing worth metserous seating forsitio good. Noilled. We dows only gix it, your too. We have friendly need\", 9.445892578125)\n",
      "2019-04-24 14:55:41,455 -----------------------------------------------------------------------------------------\n",
      "2019-04-24 14:55:41,457 | end of split   1 /  1 | epoch   4 | time: 28.88s | valid loss  3.03 | valid ppl    20.79 | learning rate 20.0000\n",
      "2019-04-24 14:55:41,458 -----------------------------------------------------------------------------------------\n",
      "2019-04-24 14:55:41,461 Epoch time: 33.47\n"
     ]
    },
    {
     "name": "stderr",
     "output_type": "stream",
     "text": [
      "[INFO/Process-7] process shutting down\n",
      "[INFO/Process-7] process exiting with exitcode 0\n",
      "[INFO/Process-8] process shutting down\n",
      "[INFO/Process-8] process exiting with exitcode 0\n",
      "[INFO/Process-9] child process calling self.run()\n",
      "[INFO/Process-10] child process calling self.run()\n"
     ]
    },
    {
     "name": "stdout",
     "output_type": "stream",
     "text": [
      "/sem8/COL772-NLP/DE-CNN/script/corpus/train/train_split_1\n",
      "2019-04-24 14:55:41,516 read text file with 3 lines\n",
      "2019-04-24 14:55:41,519 shuffled\n",
      "2019-04-24 14:55:46,280 Sequence length is 50\n",
      "2019-04-24 14:55:46,290 Split 1\t - (14:55:46)\n",
      "2019-04-24 14:56:04,958 | split   1 /  1 |   100/  130 batches | ms/batch 186.66 | loss  1.74 | ppl     5.67\n",
      "2019-04-24 14:56:10,324 24 seconds for train split 1\n",
      "2019-04-24 14:56:12,818 best loss so far  3.03\n",
      "2019-04-24 14:56:13,142 (\"\\n 2 poics! Dou cooking wink long for on a smy prodalies. He arnilur. But up. Beer akday a girllints. Weful and not on Holl Sandishing order reefcun thing in whoo one right my truce out go out!  I can fana but   this well he are your wis acround to the and a monut back and thime they and stolish suppo but lad, but LAI. Mayy if it. We good for my cold - under is and Roudbatticus at some-portion on the șock of come somether. And also yelle's after pers was an always manu was I really work on time nice probicry. Are on Gon . I sull from and I was a good and Indiaturly contoda it's place. to couse check up on an even a greason on poof was up to colafood (of combed gliss every did and dases 2 it changs who wlade our all cried, at Some not unhours or got this place tize with for up to an space is over mucha but he dalling was searmor on just enjoying with from though unplace but because or minting was monnyone. These big time.  I won but be tarly for bonswed him us i and wasn't dinner }ow on a\", 9.659994140625)\n",
      "2019-04-24 14:56:13,146 -----------------------------------------------------------------------------------------\n",
      "2019-04-24 14:56:13,147 | end of split   1 /  1 | epoch   5 | time: 26.86s | valid loss  2.89 | valid ppl    18.01 | learning rate 20.0000\n",
      "2019-04-24 14:56:13,148 -----------------------------------------------------------------------------------------\n"
     ]
    },
    {
     "name": "stderr",
     "output_type": "stream",
     "text": [
      "[INFO/Process-9] process shutting down\n",
      "[INFO/Process-10] process shutting down\n",
      "[INFO/Process-9] process exiting with exitcode 0\n",
      "[INFO/Process-10] process exiting with exitcode 0\n"
     ]
    },
    {
     "name": "stdout",
     "output_type": "stream",
     "text": [
      "2019-04-24 14:56:13,161 Epoch time: 31.70\n",
      "2019-04-24 14:56:16,012 TEST: valid loss  1.63 | valid ppl     5.11\n",
      "2019-04-24 14:56:16,013 -----------------------------------------------------------------------------------------\n"
     ]
    }
   ],
   "source": [
    "trainer.train('resources/taggers/language_model',\n",
    "              sequence_length=50,\n",
    "              mini_batch_size=100,\n",
    "              max_epochs=5)"
   ]
  },
  {
   "cell_type": "code",
   "execution_count": null,
   "metadata": {},
   "outputs": [],
   "source": []
  }
 ],
 "metadata": {
  "kernelspec": {
   "display_name": "Python allennlp",
   "language": "python",
   "name": "allennlp"
  },
  "language_info": {
   "codemirror_mode": {
    "name": "ipython",
    "version": 3
   },
   "file_extension": ".py",
   "mimetype": "text/x-python",
   "name": "python",
   "nbconvert_exporter": "python",
   "pygments_lexer": "ipython3",
   "version": "3.6.8"
  }
 },
 "nbformat": 4,
 "nbformat_minor": 2
}
