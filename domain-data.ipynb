{
 "cells": [
  {
   "cell_type": "code",
   "execution_count": 1,
   "metadata": {},
   "outputs": [],
   "source": [
    "import numpy as np\n",
    "import json\n",
    "import regex as re"
   ]
  },
  {
   "cell_type": "code",
   "execution_count": 2,
   "metadata": {},
   "outputs": [],
   "source": [
    "data_review = 'data/yelp_dataset/review.json'\n",
    "data_tip = 'tip.json'"
   ]
  },
  {
   "cell_type": "code",
   "execution_count": 3,
   "metadata": {},
   "outputs": [],
   "source": [
    "with open(data_review) as f:\n",
    "    idx = 0\n",
    "    train = \"\"\n",
    "    valid = \"\"\n",
    "    test = \"\"\n",
    "    for line in f:\n",
    "        if 0<=idx<=1000:\n",
    "            train+=json.loads(line)['text'].strip().replace('\\n', ' ')+\" \"\n",
    "        elif 1000<idx<=1500:\n",
    "            valid+=json.loads(line)['text'].strip().replace('\\n', ' ')+\" \"\n",
    "        elif 1500<idx<=2000:\n",
    "            test+=json.loads(line)['text'].strip().replace('\\n', ' ')+\" \"\n",
    "        else:\n",
    "            break\n",
    "        idx+=1"
   ]
  },
  {
   "cell_type": "code",
   "execution_count": 4,
   "metadata": {},
   "outputs": [],
   "source": [
    "with open(\"script/corpus/train/train_split_1\", 'w') as f:\n",
    "    f.write(train+\"\\n\")\n",
    "with open(\"script/corpus/test.txt\", 'w') as f:\n",
    "    f.write(test+\"\\n\")\n",
    "with open(\"script/corpus/valid.txt\", 'w') as f:\n",
    "    f.write(valid+\"\\n\")"
   ]
  },
  {
   "cell_type": "code",
   "execution_count": null,
   "metadata": {},
   "outputs": [],
   "source": []
  }
 ],
 "metadata": {
  "kernelspec": {
   "display_name": "Python allennlp",
   "language": "python",
   "name": "allennlp"
  },
  "language_info": {
   "codemirror_mode": {
    "name": "ipython",
    "version": 3
   },
   "file_extension": ".py",
   "mimetype": "text/x-python",
   "name": "python",
   "nbconvert_exporter": "python",
   "pygments_lexer": "ipython3",
   "version": "3.6.8"
  }
 },
 "nbformat": 4,
 "nbformat_minor": 2
}
